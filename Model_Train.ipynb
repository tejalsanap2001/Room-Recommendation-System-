{
  "nbformat": 4,
  "nbformat_minor": 0,
  "metadata": {
    "colab": {
      "provenance": []
    },
    "kernelspec": {
      "name": "python3",
      "display_name": "Python 3"
    },
    "accelerator": "GPU"
  },
  "cells": [
    {
      "cell_type": "code",
      "metadata": {
        "id": "Ui9cLjMdn17_",
        "colab": {
          "base_uri": "https://localhost:8080/"
        },
        "outputId": "5993f88f-0e2b-4780-c549-45f169d95850"
      },
      "source": [
        "from google.colab import drive\n",
        "drive.mount('/content/drive')"
      ],
      "execution_count": null,
      "outputs": [
        {
          "output_type": "stream",
          "name": "stdout",
          "text": [
            "Drive already mounted at /content/drive; to attempt to forcibly remount, call drive.mount(\"/content/drive\", force_remount=True).\n"
          ]
        }
      ]
    },
    {
      "cell_type": "code",
      "metadata": {
        "id": "wL61Pc3_S06E",
        "colab": {
          "base_uri": "https://localhost:8080/"
        },
        "outputId": "c9a12d2f-d159-4dc8-d944-07673570cc3d"
      },
      "source": [
        "cd ('/content/drive/MyDrive/dataset')"
      ],
      "execution_count": null,
      "outputs": [
        {
          "output_type": "stream",
          "name": "stdout",
          "text": [
            "[Errno 2] No such file or directory: '(/content/drive/MyDrive/dataset)'\n",
            "/content/drive/MyDrive/dataset\n"
          ]
        }
      ]
    },
    {
      "cell_type": "code",
      "metadata": {
        "id": "FcJvFmOTznEi",
        "colab": {
          "base_uri": "https://localhost:8080/"
        },
        "outputId": "00aaa915-8adc-4045-995c-435b8c6da0ef"
      },
      "source": [
        "%tensorflow_version 2.x"
      ],
      "execution_count": null,
      "outputs": [
        {
          "output_type": "stream",
          "name": "stdout",
          "text": [
            "Colab only includes TensorFlow 2.x; %tensorflow_version has no effect.\n"
          ]
        }
      ]
    },
    {
      "cell_type": "code",
      "metadata": {
        "colab": {
          "base_uri": "https://localhost:8080/"
        },
        "id": "NTL9JAB_zn0k",
        "outputId": "b0f6bb25-7a3b-4d65-f988-3d02d3d9fa9c"
      },
      "source": [
        "import tensorflow\n",
        "print(tensorflow.__version__)"
      ],
      "execution_count": null,
      "outputs": [
        {
          "output_type": "stream",
          "name": "stdout",
          "text": [
            "2.12.0\n"
          ]
        }
      ]
    },
    {
      "cell_type": "markdown",
      "metadata": {
        "id": "Sqs8xkUUT7ex"
      },
      "source": [
        "#Data Preprocessing"
      ]
    },
    {
      "cell_type": "code",
      "metadata": {
        "id": "k89Phl5nTfYU",
        "colab": {
          "base_uri": "https://localhost:8080/"
        },
        "outputId": "24059c70-7855-4786-e438-fad0bc7b79b2"
      },
      "source": [
        "import cv2,os\n",
        "data_path='/content/drive/MyDrive/dataset'\n",
        "categories=os.listdir(data_path)\n",
        "labels=[i for i in range(len(categories))]\n",
        "\n",
        "label_dict=dict(zip(categories,labels)) #empty dictionary\n",
        "print(label_dict)\n",
        "print(categories)\n",
        "print(labels)"
      ],
      "execution_count": null,
      "outputs": [
        {
          "output_type": "stream",
          "name": "stdout",
          "text": [
            "{'fake': 0, 'real': 1}\n",
            "['fake', 'real']\n",
            "[0, 1]\n"
          ]
        }
      ]
    },
    {
      "cell_type": "code",
      "metadata": {
        "id": "BScfeIRlTtlL"
      },
      "source": [
        "img_size=100\n",
        "data=[]\n",
        "target=[]\n",
        "\n",
        "for category in categories:\n",
        "    folder_path=os.path.join(data_path,category)\n",
        "    img_names=os.listdir(folder_path)\n",
        "        \n",
        "    for img_name in img_names:\n",
        "        img_path=os.path.join(folder_path,img_name)\n",
        "        img=cv2.imread(img_path)\n",
        "\n",
        "        try:  \n",
        "            resized=cv2.resize(img,(img_size,img_size))\n",
        "            data.append(resized)\n",
        "            target.append(label_dict[category])\n",
        "        except Exception as e:\n",
        "            print('Exception:',e)"
      ],
      "execution_count": null,
      "outputs": []
    },
    {
      "cell_type": "markdown",
      "metadata": {
        "id": "mYQHryCXVQa9"
      },
      "source": [
        "#Recale and assign  catagorical lables"
      ]
    },
    {
      "cell_type": "code",
      "metadata": {
        "id": "DRj6dU9zTxNw"
      },
      "source": [
        "import numpy as np\n",
        "data=np.array(data)/255.0\n",
        "data=np.reshape(data,(data.shape[0],img_size,img_size,3))\n",
        "target=np.array(target)\n",
        "from keras.utils import np_utils\n",
        "new_target=np_utils.to_categorical(target)"
      ],
      "execution_count": null,
      "outputs": []
    },
    {
      "cell_type": "code",
      "metadata": {
        "id": "M2Ww7WuoeRAo",
        "colab": {
          "base_uri": "https://localhost:8080/"
        },
        "outputId": "5d0c57ee-4450-4b30-8854-135c87e8d5f7"
      },
      "source": [
        "new_target.shape"
      ],
      "execution_count": null,
      "outputs": [
        {
          "output_type": "execute_result",
          "data": {
            "text/plain": [
              "(200, 2)"
            ]
          },
          "metadata": {
            "tags": []
          },
          "execution_count": 12
        }
      ]
    },
    {
      "cell_type": "markdown",
      "metadata": {
        "id": "at-tkV9EUH8v"
      },
      "source": [
        "#CNN Model"
      ]
    },
    {
      "cell_type": "code",
      "metadata": {
        "id": "w5yQijqzVHJN",
        "colab": {
          "base_uri": "https://localhost:8080/"
        },
        "outputId": "864d4f63-2273-4f20-d143-dba2eae1b199"
      },
      "source": [
        "data.shape"
      ],
      "execution_count": null,
      "outputs": [
        {
          "output_type": "execute_result",
          "data": {
            "text/plain": [
              "(28, 100, 100, 3)"
            ]
          },
          "metadata": {},
          "execution_count": 13
        }
      ]
    },
    {
      "cell_type": "code",
      "metadata": {
        "id": "L1JcfG4MdVZ2",
        "colab": {
          "base_uri": "https://localhost:8080/"
        },
        "outputId": "7ac25abd-8b35-4ced-fa8b-ba5d87e48152"
      },
      "source": [
        "data.shape[1:]"
      ],
      "execution_count": null,
      "outputs": [
        {
          "output_type": "execute_result",
          "data": {
            "text/plain": [
              "(100, 100, 3)"
            ]
          },
          "metadata": {},
          "execution_count": 14
        }
      ]
    },
    {
      "cell_type": "code",
      "metadata": {
        "id": "XgsZogOtUPm2"
      },
      "source": [
        "from keras.models import Sequential\n",
        "from keras.layers import Dense,Activation,Flatten,Dropout\n",
        "from keras.layers import Conv2D,MaxPooling2D\n",
        "from keras.callbacks import ModelCheckpoint\n",
        "\n",
        "model=Sequential()\n",
        "\n",
        "model.add(Conv2D(200,(3,3),input_shape=data.shape[1:]))\n",
        "model.add(Activation('relu'))\n",
        "model.add(MaxPooling2D(pool_size=(2,2)))\n",
        "#The first CNN layer followed by Relu and MaxPooling layers\n",
        "\n",
        "model.add(Conv2D(100,(3,3)))\n",
        "model.add(Activation('relu'))\n",
        "model.add(MaxPooling2D(pool_size=(2,2)))\n",
        "#The second convolution layer followed by Relu and MaxPooling layers\n",
        "\n",
        "model.add(Flatten())\n",
        "model.add(Dropout(0.5))\n",
        "#Flatten layer to stack the output convolutions from second convolution layer\n",
        "model.add(Dense(50,activation='relu'))\n",
        "#Dense layer of 64 neurons\n",
        "model.add(Dense(2,activation='softmax'))\n",
        "#The Final layer with two outputs for two categories\n",
        "\n",
        "model.compile(loss='categorical_crossentropy',optimizer='adam',metrics=['accuracy'])"
      ],
      "execution_count": null,
      "outputs": []
    },
    {
      "cell_type": "code",
      "metadata": {
        "id": "yfCMzZEpcyAM",
        "colab": {
          "base_uri": "https://localhost:8080/"
        },
        "outputId": "4b1e9646-3e6a-4cfd-b479-54e7322d464b"
      },
      "source": [
        "model.summary()"
      ],
      "execution_count": null,
      "outputs": [
        {
          "output_type": "stream",
          "text": [
            "Model: \"sequential_1\"\n",
            "_________________________________________________________________\n",
            "Layer (type)                 Output Shape              Param #   \n",
            "=================================================================\n",
            "conv2d_1 (Conv2D)            (None, 98, 98, 200)       5600      \n",
            "_________________________________________________________________\n",
            "activation_1 (Activation)    (None, 98, 98, 200)       0         \n",
            "_________________________________________________________________\n",
            "max_pooling2d_1 (MaxPooling2 (None, 49, 49, 200)       0         \n",
            "_________________________________________________________________\n",
            "conv2d_2 (Conv2D)            (None, 47, 47, 100)       180100    \n",
            "_________________________________________________________________\n",
            "activation_2 (Activation)    (None, 47, 47, 100)       0         \n",
            "_________________________________________________________________\n",
            "max_pooling2d_2 (MaxPooling2 (None, 23, 23, 100)       0         \n",
            "_________________________________________________________________\n",
            "flatten_1 (Flatten)          (None, 52900)             0         \n",
            "_________________________________________________________________\n",
            "dropout_1 (Dropout)          (None, 52900)             0         \n",
            "_________________________________________________________________\n",
            "dense_1 (Dense)              (None, 50)                2645050   \n",
            "_________________________________________________________________\n",
            "dense_2 (Dense)              (None, 2)                 102       \n",
            "=================================================================\n",
            "Total params: 2,830,852\n",
            "Trainable params: 2,830,852\n",
            "Non-trainable params: 0\n",
            "_________________________________________________________________\n"
          ],
          "name": "stdout"
        }
      ]
    },
    {
      "cell_type": "markdown",
      "metadata": {
        "id": "Lzs7FPsncqKT"
      },
      "source": [
        "#Splittiong data into traning and testing"
      ]
    },
    {
      "cell_type": "code",
      "metadata": {
        "id": "1oHT4H09UT8-"
      },
      "source": [
        "from sklearn.model_selection import train_test_split\n",
        "train_data,test_data,train_target,test_target=train_test_split(data,new_target,test_size=0.1)"
      ],
      "execution_count": null,
      "outputs": []
    },
    {
      "cell_type": "code",
      "metadata": {
        "id": "sBdHmVpzdbny",
        "colab": {
          "base_uri": "https://localhost:8080/"
        },
        "outputId": "376e812c-2a67-485a-f008-8a882a36c3e4"
      },
      "source": [
        "train_data.shape"
      ],
      "execution_count": null,
      "outputs": [
        {
          "output_type": "execute_result",
          "data": {
            "text/plain": [
              "(25, 100, 100, 3)"
            ]
          },
          "metadata": {},
          "execution_count": 17
        }
      ]
    },
    {
      "cell_type": "code",
      "metadata": {
        "id": "Yt9DmIiydgcq",
        "colab": {
          "base_uri": "https://localhost:8080/"
        },
        "outputId": "8a25ea57-df41-4c2f-9d57-a887426b9782"
      },
      "source": [
        "train_target.shape"
      ],
      "execution_count": null,
      "outputs": [
        {
          "output_type": "execute_result",
          "data": {
            "text/plain": [
              "(25, 2)"
            ]
          },
          "metadata": {},
          "execution_count": 18
        }
      ]
    },
    {
      "cell_type": "code",
      "metadata": {
        "id": "rmpEGWUMUUnh",
        "colab": {
          "base_uri": "https://localhost:8080/"
        },
        "outputId": "1d6850fc-2b98-49c9-9914-f412fd4bf3a9"
      },
      "source": [
        "#checkpoint = ModelCheckpoint('model-{epoch:03d}.model',monitor='val_loss',verbose=0,save_best_only=True,mode='auto')\n",
        "history=model.fit(train_data,train_target,epochs=200,validation_split=0.2)"
      ],
      "execution_count": null,
      "outputs": [
        {
          "output_type": "stream",
          "name": "stdout",
          "text": [
            "Epoch 1/200\n",
            "1/1 [==============================] - 12s 12s/step - loss: 0.6817 - accuracy: 0.6000 - val_loss: 2.1377 - val_accuracy: 0.4000\n",
            "Epoch 2/200\n",
            "1/1 [==============================] - 0s 60ms/step - loss: 1.6154 - accuracy: 0.6000 - val_loss: 2.6051 - val_accuracy: 0.6000\n",
            "Epoch 3/200\n",
            "1/1 [==============================] - 0s 56ms/step - loss: 3.9597 - accuracy: 0.4000 - val_loss: 0.7989 - val_accuracy: 0.6000\n",
            "Epoch 4/200\n",
            "1/1 [==============================] - 0s 56ms/step - loss: 1.0720 - accuracy: 0.4000 - val_loss: 0.8080 - val_accuracy: 0.4000\n",
            "Epoch 5/200\n",
            "1/1 [==============================] - 0s 56ms/step - loss: 0.6812 - accuracy: 0.6000 - val_loss: 0.8283 - val_accuracy: 0.4000\n",
            "Epoch 6/200\n",
            "1/1 [==============================] - 0s 56ms/step - loss: 0.6949 - accuracy: 0.6000 - val_loss: 0.8154 - val_accuracy: 0.4000\n",
            "Epoch 7/200\n",
            "1/1 [==============================] - 0s 57ms/step - loss: 0.6716 - accuracy: 0.6000 - val_loss: 0.7753 - val_accuracy: 0.4000\n",
            "Epoch 8/200\n",
            "1/1 [==============================] - 0s 57ms/step - loss: 0.6330 - accuracy: 0.6000 - val_loss: 0.6761 - val_accuracy: 0.6000\n",
            "Epoch 9/200\n",
            "1/1 [==============================] - 0s 56ms/step - loss: 0.6222 - accuracy: 0.8000 - val_loss: 0.6905 - val_accuracy: 0.4000\n",
            "Epoch 10/200\n",
            "1/1 [==============================] - 0s 56ms/step - loss: 0.5733 - accuracy: 0.6500 - val_loss: 0.7324 - val_accuracy: 0.4000\n",
            "Epoch 11/200\n",
            "1/1 [==============================] - 0s 55ms/step - loss: 0.5554 - accuracy: 0.6500 - val_loss: 0.5864 - val_accuracy: 0.8000\n",
            "Epoch 12/200\n",
            "1/1 [==============================] - 0s 55ms/step - loss: 0.5220 - accuracy: 0.8000 - val_loss: 0.6616 - val_accuracy: 0.6000\n",
            "Epoch 13/200\n",
            "1/1 [==============================] - 0s 56ms/step - loss: 0.4782 - accuracy: 0.6500 - val_loss: 0.5503 - val_accuracy: 0.8000\n",
            "Epoch 14/200\n",
            "1/1 [==============================] - 0s 62ms/step - loss: 0.3925 - accuracy: 0.9500 - val_loss: 0.4870 - val_accuracy: 0.8000\n",
            "Epoch 15/200\n",
            "1/1 [==============================] - 0s 57ms/step - loss: 0.3403 - accuracy: 1.0000 - val_loss: 0.4957 - val_accuracy: 0.8000\n",
            "Epoch 16/200\n",
            "1/1 [==============================] - 0s 57ms/step - loss: 0.2921 - accuracy: 0.9500 - val_loss: 0.4798 - val_accuracy: 0.8000\n",
            "Epoch 17/200\n",
            "1/1 [==============================] - 0s 57ms/step - loss: 0.2264 - accuracy: 0.9500 - val_loss: 0.4603 - val_accuracy: 0.8000\n",
            "Epoch 18/200\n",
            "1/1 [==============================] - 0s 56ms/step - loss: 0.1991 - accuracy: 0.9500 - val_loss: 0.4672 - val_accuracy: 0.8000\n",
            "Epoch 19/200\n",
            "1/1 [==============================] - 0s 61ms/step - loss: 0.1354 - accuracy: 1.0000 - val_loss: 0.4817 - val_accuracy: 0.8000\n",
            "Epoch 20/200\n",
            "1/1 [==============================] - 0s 59ms/step - loss: 0.1211 - accuracy: 1.0000 - val_loss: 0.3656 - val_accuracy: 0.8000\n",
            "Epoch 21/200\n",
            "1/1 [==============================] - 0s 58ms/step - loss: 0.0948 - accuracy: 1.0000 - val_loss: 0.4829 - val_accuracy: 0.8000\n",
            "Epoch 22/200\n",
            "1/1 [==============================] - 0s 58ms/step - loss: 0.0591 - accuracy: 1.0000 - val_loss: 0.6631 - val_accuracy: 0.8000\n",
            "Epoch 23/200\n",
            "1/1 [==============================] - 0s 57ms/step - loss: 0.0454 - accuracy: 1.0000 - val_loss: 0.4448 - val_accuracy: 0.8000\n",
            "Epoch 24/200\n",
            "1/1 [==============================] - 0s 57ms/step - loss: 0.0260 - accuracy: 1.0000 - val_loss: 0.4566 - val_accuracy: 0.8000\n",
            "Epoch 25/200\n",
            "1/1 [==============================] - 0s 56ms/step - loss: 0.0146 - accuracy: 1.0000 - val_loss: 0.5486 - val_accuracy: 0.8000\n",
            "Epoch 26/200\n",
            "1/1 [==============================] - 0s 58ms/step - loss: 0.0065 - accuracy: 1.0000 - val_loss: 0.6709 - val_accuracy: 0.8000\n",
            "Epoch 27/200\n",
            "1/1 [==============================] - 0s 57ms/step - loss: 0.0104 - accuracy: 1.0000 - val_loss: 0.6176 - val_accuracy: 0.8000\n",
            "Epoch 28/200\n",
            "1/1 [==============================] - 0s 62ms/step - loss: 0.0029 - accuracy: 1.0000 - val_loss: 0.5669 - val_accuracy: 0.8000\n",
            "Epoch 29/200\n",
            "1/1 [==============================] - 0s 56ms/step - loss: 0.0022 - accuracy: 1.0000 - val_loss: 0.5544 - val_accuracy: 0.8000\n",
            "Epoch 30/200\n",
            "1/1 [==============================] - 0s 63ms/step - loss: 0.0022 - accuracy: 1.0000 - val_loss: 0.5421 - val_accuracy: 0.8000\n",
            "Epoch 31/200\n",
            "1/1 [==============================] - 0s 65ms/step - loss: 0.0011 - accuracy: 1.0000 - val_loss: 0.5677 - val_accuracy: 0.8000\n",
            "Epoch 32/200\n",
            "1/1 [==============================] - 0s 55ms/step - loss: 0.0010 - accuracy: 1.0000 - val_loss: 0.6285 - val_accuracy: 0.8000\n",
            "Epoch 33/200\n",
            "1/1 [==============================] - 0s 57ms/step - loss: 8.4621e-04 - accuracy: 1.0000 - val_loss: 0.7164 - val_accuracy: 0.8000\n",
            "Epoch 34/200\n",
            "1/1 [==============================] - 0s 56ms/step - loss: 3.0659e-04 - accuracy: 1.0000 - val_loss: 0.8247 - val_accuracy: 0.8000\n",
            "Epoch 35/200\n",
            "1/1 [==============================] - 0s 55ms/step - loss: 8.2941e-04 - accuracy: 1.0000 - val_loss: 0.8944 - val_accuracy: 0.8000\n",
            "Epoch 36/200\n",
            "1/1 [==============================] - 0s 71ms/step - loss: 4.0270e-04 - accuracy: 1.0000 - val_loss: 0.9320 - val_accuracy: 0.8000\n",
            "Epoch 37/200\n",
            "1/1 [==============================] - 0s 57ms/step - loss: 0.0012 - accuracy: 1.0000 - val_loss: 0.8607 - val_accuracy: 0.8000\n",
            "Epoch 38/200\n",
            "1/1 [==============================] - 0s 57ms/step - loss: 3.1332e-04 - accuracy: 1.0000 - val_loss: 0.7910 - val_accuracy: 0.8000\n",
            "Epoch 39/200\n",
            "1/1 [==============================] - 0s 58ms/step - loss: 1.4034e-04 - accuracy: 1.0000 - val_loss: 0.7302 - val_accuracy: 0.8000\n",
            "Epoch 40/200\n",
            "1/1 [==============================] - 0s 58ms/step - loss: 4.9933e-05 - accuracy: 1.0000 - val_loss: 0.6768 - val_accuracy: 0.8000\n",
            "Epoch 41/200\n",
            "1/1 [==============================] - 0s 57ms/step - loss: 2.7944e-04 - accuracy: 1.0000 - val_loss: 0.6443 - val_accuracy: 0.8000\n",
            "Epoch 42/200\n",
            "1/1 [==============================] - 0s 73ms/step - loss: 3.1466e-04 - accuracy: 1.0000 - val_loss: 0.6328 - val_accuracy: 0.8000\n",
            "Epoch 43/200\n",
            "1/1 [==============================] - 0s 57ms/step - loss: 2.3904e-04 - accuracy: 1.0000 - val_loss: 0.6351 - val_accuracy: 0.8000\n",
            "Epoch 44/200\n",
            "1/1 [==============================] - 0s 57ms/step - loss: 1.0750e-04 - accuracy: 1.0000 - val_loss: 0.6439 - val_accuracy: 0.8000\n",
            "Epoch 45/200\n",
            "1/1 [==============================] - 0s 56ms/step - loss: 4.0148e-05 - accuracy: 1.0000 - val_loss: 0.6546 - val_accuracy: 0.8000\n",
            "Epoch 46/200\n",
            "1/1 [==============================] - 0s 66ms/step - loss: 4.2761e-05 - accuracy: 1.0000 - val_loss: 0.6670 - val_accuracy: 0.8000\n",
            "Epoch 47/200\n",
            "1/1 [==============================] - 0s 57ms/step - loss: 3.7393e-04 - accuracy: 1.0000 - val_loss: 0.7066 - val_accuracy: 0.8000\n",
            "Epoch 48/200\n",
            "1/1 [==============================] - 0s 58ms/step - loss: 7.9216e-05 - accuracy: 1.0000 - val_loss: 0.7465 - val_accuracy: 0.8000\n",
            "Epoch 49/200\n",
            "1/1 [==============================] - 0s 74ms/step - loss: 6.5736e-05 - accuracy: 1.0000 - val_loss: 0.7811 - val_accuracy: 0.8000\n",
            "Epoch 50/200\n",
            "1/1 [==============================] - 0s 56ms/step - loss: 7.0742e-05 - accuracy: 1.0000 - val_loss: 0.8108 - val_accuracy: 0.8000\n",
            "Epoch 51/200\n",
            "1/1 [==============================] - 0s 57ms/step - loss: 3.8173e-05 - accuracy: 1.0000 - val_loss: 0.8399 - val_accuracy: 0.8000\n",
            "Epoch 52/200\n",
            "1/1 [==============================] - 0s 63ms/step - loss: 3.6829e-05 - accuracy: 1.0000 - val_loss: 0.8647 - val_accuracy: 0.8000\n",
            "Epoch 53/200\n",
            "1/1 [==============================] - 0s 56ms/step - loss: 2.4633e-05 - accuracy: 1.0000 - val_loss: 0.8891 - val_accuracy: 0.8000\n",
            "Epoch 54/200\n",
            "1/1 [==============================] - 0s 56ms/step - loss: 9.4532e-06 - accuracy: 1.0000 - val_loss: 0.9122 - val_accuracy: 0.8000\n",
            "Epoch 55/200\n",
            "1/1 [==============================] - 0s 58ms/step - loss: 2.5658e-05 - accuracy: 1.0000 - val_loss: 0.9336 - val_accuracy: 0.8000\n",
            "Epoch 56/200\n",
            "1/1 [==============================] - 0s 58ms/step - loss: 2.1826e-05 - accuracy: 1.0000 - val_loss: 0.9541 - val_accuracy: 0.8000\n",
            "Epoch 57/200\n",
            "1/1 [==============================] - 0s 59ms/step - loss: 1.8065e-05 - accuracy: 1.0000 - val_loss: 0.9726 - val_accuracy: 0.8000\n",
            "Epoch 58/200\n",
            "1/1 [==============================] - 0s 59ms/step - loss: 1.1337e-05 - accuracy: 1.0000 - val_loss: 0.9892 - val_accuracy: 0.8000\n",
            "Epoch 59/200\n",
            "1/1 [==============================] - 0s 56ms/step - loss: 1.4144e-05 - accuracy: 1.0000 - val_loss: 1.0052 - val_accuracy: 0.8000\n",
            "Epoch 60/200\n",
            "1/1 [==============================] - 0s 57ms/step - loss: 1.7604e-04 - accuracy: 1.0000 - val_loss: 0.9971 - val_accuracy: 0.8000\n",
            "Epoch 61/200\n",
            "1/1 [==============================] - 0s 56ms/step - loss: 1.6182e-05 - accuracy: 1.0000 - val_loss: 0.9904 - val_accuracy: 0.8000\n",
            "Epoch 62/200\n",
            "1/1 [==============================] - 0s 57ms/step - loss: 3.2863e-05 - accuracy: 1.0000 - val_loss: 0.9865 - val_accuracy: 0.8000\n",
            "Epoch 63/200\n",
            "1/1 [==============================] - 0s 57ms/step - loss: 3.1358e-05 - accuracy: 1.0000 - val_loss: 0.9855 - val_accuracy: 0.8000\n",
            "Epoch 64/200\n",
            "1/1 [==============================] - 0s 63ms/step - loss: 2.9311e-05 - accuracy: 1.0000 - val_loss: 0.9854 - val_accuracy: 0.8000\n",
            "Epoch 65/200\n",
            "1/1 [==============================] - 0s 72ms/step - loss: 6.3895e-06 - accuracy: 1.0000 - val_loss: 0.9848 - val_accuracy: 0.8000\n",
            "Epoch 66/200\n",
            "1/1 [==============================] - 0s 57ms/step - loss: 1.6390e-05 - accuracy: 1.0000 - val_loss: 0.9856 - val_accuracy: 0.8000\n",
            "Epoch 67/200\n",
            "1/1 [==============================] - 0s 59ms/step - loss: 1.4304e-05 - accuracy: 1.0000 - val_loss: 0.9858 - val_accuracy: 0.8000\n",
            "Epoch 68/200\n",
            "1/1 [==============================] - 0s 57ms/step - loss: 5.0577e-05 - accuracy: 1.0000 - val_loss: 0.9907 - val_accuracy: 0.8000\n",
            "Epoch 69/200\n",
            "1/1 [==============================] - 0s 64ms/step - loss: 2.9300e-05 - accuracy: 1.0000 - val_loss: 0.9958 - val_accuracy: 0.8000\n",
            "Epoch 70/200\n",
            "1/1 [==============================] - 0s 59ms/step - loss: 1.8566e-05 - accuracy: 1.0000 - val_loss: 1.0022 - val_accuracy: 0.8000\n",
            "Epoch 71/200\n",
            "1/1 [==============================] - 0s 59ms/step - loss: 6.9975e-06 - accuracy: 1.0000 - val_loss: 1.0082 - val_accuracy: 0.8000\n",
            "Epoch 72/200\n",
            "1/1 [==============================] - 0s 60ms/step - loss: 4.5657e-06 - accuracy: 1.0000 - val_loss: 1.0139 - val_accuracy: 0.8000\n",
            "Epoch 73/200\n",
            "1/1 [==============================] - 0s 59ms/step - loss: 4.5140e-05 - accuracy: 1.0000 - val_loss: 1.0126 - val_accuracy: 0.8000\n",
            "Epoch 74/200\n",
            "1/1 [==============================] - 0s 61ms/step - loss: 5.9962e-06 - accuracy: 1.0000 - val_loss: 1.0116 - val_accuracy: 0.8000\n",
            "Epoch 75/200\n",
            "1/1 [==============================] - 0s 59ms/step - loss: 3.6962e-05 - accuracy: 1.0000 - val_loss: 1.0068 - val_accuracy: 0.8000\n",
            "Epoch 76/200\n",
            "1/1 [==============================] - 0s 61ms/step - loss: 1.1181e-05 - accuracy: 1.0000 - val_loss: 1.0038 - val_accuracy: 0.8000\n",
            "Epoch 77/200\n",
            "1/1 [==============================] - 0s 66ms/step - loss: 4.2913e-05 - accuracy: 1.0000 - val_loss: 1.0029 - val_accuracy: 0.8000\n",
            "Epoch 78/200\n",
            "1/1 [==============================] - 0s 62ms/step - loss: 3.3411e-05 - accuracy: 1.0000 - val_loss: 0.9989 - val_accuracy: 0.8000\n",
            "Epoch 79/200\n",
            "1/1 [==============================] - 0s 61ms/step - loss: 6.0044e-05 - accuracy: 1.0000 - val_loss: 0.9925 - val_accuracy: 0.8000\n",
            "Epoch 80/200\n",
            "1/1 [==============================] - 0s 60ms/step - loss: 2.9743e-06 - accuracy: 1.0000 - val_loss: 0.9870 - val_accuracy: 0.8000\n",
            "Epoch 81/200\n",
            "1/1 [==============================] - 0s 60ms/step - loss: 5.7577e-06 - accuracy: 1.0000 - val_loss: 0.9819 - val_accuracy: 0.8000\n",
            "Epoch 82/200\n",
            "1/1 [==============================] - 0s 59ms/step - loss: 1.4161e-05 - accuracy: 1.0000 - val_loss: 0.9766 - val_accuracy: 0.8000\n",
            "Epoch 83/200\n",
            "1/1 [==============================] - 0s 63ms/step - loss: 6.9081e-06 - accuracy: 1.0000 - val_loss: 0.9725 - val_accuracy: 0.8000\n",
            "Epoch 84/200\n",
            "1/1 [==============================] - 0s 77ms/step - loss: 7.7008e-06 - accuracy: 1.0000 - val_loss: 0.9694 - val_accuracy: 0.8000\n",
            "Epoch 85/200\n",
            "1/1 [==============================] - 0s 78ms/step - loss: 1.5300e-05 - accuracy: 1.0000 - val_loss: 0.9665 - val_accuracy: 0.8000\n",
            "Epoch 86/200\n",
            "1/1 [==============================] - 0s 63ms/step - loss: 1.1599e-05 - accuracy: 1.0000 - val_loss: 0.9645 - val_accuracy: 0.8000\n",
            "Epoch 87/200\n",
            "1/1 [==============================] - 0s 60ms/step - loss: 7.9213e-06 - accuracy: 1.0000 - val_loss: 0.9628 - val_accuracy: 0.8000\n",
            "Epoch 88/200\n",
            "1/1 [==============================] - 0s 65ms/step - loss: 7.4325e-06 - accuracy: 1.0000 - val_loss: 0.9620 - val_accuracy: 0.8000\n",
            "Epoch 89/200\n",
            "1/1 [==============================] - 0s 60ms/step - loss: 6.5326e-06 - accuracy: 1.0000 - val_loss: 0.9614 - val_accuracy: 0.8000\n",
            "Epoch 90/200\n",
            "1/1 [==============================] - 0s 63ms/step - loss: 1.2499e-05 - accuracy: 1.0000 - val_loss: 0.9614 - val_accuracy: 0.8000\n",
            "Epoch 91/200\n",
            "1/1 [==============================] - 0s 60ms/step - loss: 2.3708e-05 - accuracy: 1.0000 - val_loss: 0.9591 - val_accuracy: 0.8000\n",
            "Epoch 92/200\n",
            "1/1 [==============================] - 0s 60ms/step - loss: 1.1968e-05 - accuracy: 1.0000 - val_loss: 0.9573 - val_accuracy: 0.8000\n",
            "Epoch 93/200\n",
            "1/1 [==============================] - 0s 59ms/step - loss: 1.2731e-05 - accuracy: 1.0000 - val_loss: 0.9568 - val_accuracy: 0.8000\n",
            "Epoch 94/200\n",
            "1/1 [==============================] - 0s 59ms/step - loss: 7.4088e-06 - accuracy: 1.0000 - val_loss: 0.9569 - val_accuracy: 0.8000\n",
            "Epoch 95/200\n",
            "1/1 [==============================] - 0s 57ms/step - loss: 4.1688e-05 - accuracy: 1.0000 - val_loss: 0.9510 - val_accuracy: 0.8000\n",
            "Epoch 96/200\n",
            "1/1 [==============================] - 0s 57ms/step - loss: 5.0271e-05 - accuracy: 1.0000 - val_loss: 0.9493 - val_accuracy: 0.8000\n",
            "Epoch 97/200\n",
            "1/1 [==============================] - 0s 60ms/step - loss: 1.2886e-05 - accuracy: 1.0000 - val_loss: 0.9489 - val_accuracy: 0.8000\n",
            "Epoch 98/200\n",
            "1/1 [==============================] - 0s 58ms/step - loss: 9.7451e-06 - accuracy: 1.0000 - val_loss: 0.9488 - val_accuracy: 0.8000\n",
            "Epoch 99/200\n",
            "1/1 [==============================] - 0s 60ms/step - loss: 4.6372e-06 - accuracy: 1.0000 - val_loss: 0.9487 - val_accuracy: 0.8000\n",
            "Epoch 100/200\n",
            "1/1 [==============================] - 0s 61ms/step - loss: 6.5266e-06 - accuracy: 1.0000 - val_loss: 0.9492 - val_accuracy: 0.8000\n",
            "Epoch 101/200\n",
            "1/1 [==============================] - 0s 59ms/step - loss: 7.5041e-06 - accuracy: 1.0000 - val_loss: 0.9504 - val_accuracy: 0.8000\n",
            "Epoch 102/200\n",
            "1/1 [==============================] - 0s 61ms/step - loss: 9.6855e-06 - accuracy: 1.0000 - val_loss: 0.9521 - val_accuracy: 0.8000\n",
            "Epoch 103/200\n",
            "1/1 [==============================] - 0s 59ms/step - loss: 1.5431e-05 - accuracy: 1.0000 - val_loss: 0.9535 - val_accuracy: 0.8000\n",
            "Epoch 104/200\n",
            "1/1 [==============================] - 0s 60ms/step - loss: 3.8663e-05 - accuracy: 1.0000 - val_loss: 0.9594 - val_accuracy: 0.8000\n",
            "Epoch 105/200\n",
            "1/1 [==============================] - 0s 62ms/step - loss: 4.0650e-06 - accuracy: 1.0000 - val_loss: 0.9651 - val_accuracy: 0.8000\n",
            "Epoch 106/200\n",
            "1/1 [==============================] - 0s 79ms/step - loss: 7.6173e-06 - accuracy: 1.0000 - val_loss: 0.9705 - val_accuracy: 0.8000\n",
            "Epoch 107/200\n",
            "1/1 [==============================] - 0s 68ms/step - loss: 5.2630e-06 - accuracy: 1.0000 - val_loss: 0.9757 - val_accuracy: 0.8000\n",
            "Epoch 108/200\n",
            "1/1 [==============================] - 0s 61ms/step - loss: 2.4947e-05 - accuracy: 1.0000 - val_loss: 0.9829 - val_accuracy: 0.8000\n",
            "Epoch 109/200\n",
            "1/1 [==============================] - 0s 62ms/step - loss: 2.5747e-05 - accuracy: 1.0000 - val_loss: 0.9935 - val_accuracy: 0.8000\n",
            "Epoch 110/200\n",
            "1/1 [==============================] - 0s 61ms/step - loss: 1.0442e-04 - accuracy: 1.0000 - val_loss: 0.9882 - val_accuracy: 0.8000\n",
            "Epoch 111/200\n",
            "1/1 [==============================] - 0s 75ms/step - loss: 1.3416e-05 - accuracy: 1.0000 - val_loss: 0.9845 - val_accuracy: 0.8000\n",
            "Epoch 112/200\n",
            "1/1 [==============================] - 0s 80ms/step - loss: 1.2392e-05 - accuracy: 1.0000 - val_loss: 0.9827 - val_accuracy: 0.8000\n",
            "Epoch 113/200\n",
            "1/1 [==============================] - 0s 60ms/step - loss: 1.4549e-05 - accuracy: 1.0000 - val_loss: 0.9811 - val_accuracy: 0.8000\n",
            "Epoch 114/200\n",
            "1/1 [==============================] - 0s 62ms/step - loss: 3.4451e-06 - accuracy: 1.0000 - val_loss: 0.9796 - val_accuracy: 0.8000\n",
            "Epoch 115/200\n",
            "1/1 [==============================] - 0s 66ms/step - loss: 6.8485e-06 - accuracy: 1.0000 - val_loss: 0.9785 - val_accuracy: 0.8000\n",
            "Epoch 116/200\n",
            "1/1 [==============================] - 0s 63ms/step - loss: 3.6478e-06 - accuracy: 1.0000 - val_loss: 0.9777 - val_accuracy: 0.8000\n",
            "Epoch 117/200\n",
            "1/1 [==============================] - 0s 76ms/step - loss: 1.3136e-05 - accuracy: 1.0000 - val_loss: 0.9785 - val_accuracy: 0.8000\n",
            "Epoch 118/200\n",
            "1/1 [==============================] - 0s 68ms/step - loss: 1.0907e-05 - accuracy: 1.0000 - val_loss: 0.9782 - val_accuracy: 0.8000\n",
            "Epoch 119/200\n",
            "1/1 [==============================] - 0s 60ms/step - loss: 3.9088e-05 - accuracy: 1.0000 - val_loss: 0.9782 - val_accuracy: 0.8000\n",
            "Epoch 120/200\n",
            "1/1 [==============================] - 0s 61ms/step - loss: 1.0311e-05 - accuracy: 1.0000 - val_loss: 0.9797 - val_accuracy: 0.8000\n",
            "Epoch 121/200\n",
            "1/1 [==============================] - 0s 67ms/step - loss: 1.1891e-05 - accuracy: 1.0000 - val_loss: 0.9823 - val_accuracy: 0.8000\n",
            "Epoch 122/200\n",
            "1/1 [==============================] - 0s 69ms/step - loss: 1.0591e-05 - accuracy: 1.0000 - val_loss: 0.9858 - val_accuracy: 0.8000\n",
            "Epoch 123/200\n",
            "1/1 [==============================] - 0s 61ms/step - loss: 7.2716e-06 - accuracy: 1.0000 - val_loss: 0.9897 - val_accuracy: 0.8000\n",
            "Epoch 124/200\n",
            "1/1 [==============================] - 0s 60ms/step - loss: 2.6323e-05 - accuracy: 1.0000 - val_loss: 0.9961 - val_accuracy: 0.8000\n",
            "Epoch 125/200\n",
            "1/1 [==============================] - 0s 60ms/step - loss: 1.6450e-05 - accuracy: 1.0000 - val_loss: 1.0027 - val_accuracy: 0.8000\n",
            "Epoch 126/200\n",
            "1/1 [==============================] - 0s 60ms/step - loss: 4.4822e-06 - accuracy: 1.0000 - val_loss: 1.0086 - val_accuracy: 0.8000\n",
            "Epoch 127/200\n",
            "1/1 [==============================] - 0s 60ms/step - loss: 9.9358e-06 - accuracy: 1.0000 - val_loss: 1.0148 - val_accuracy: 0.8000\n",
            "Epoch 128/200\n",
            "1/1 [==============================] - 0s 62ms/step - loss: 2.2117e-05 - accuracy: 1.0000 - val_loss: 1.0231 - val_accuracy: 0.8000\n",
            "Epoch 129/200\n",
            "1/1 [==============================] - 0s 63ms/step - loss: 7.5101e-06 - accuracy: 1.0000 - val_loss: 1.0304 - val_accuracy: 0.8000\n",
            "Epoch 130/200\n",
            "1/1 [==============================] - 0s 62ms/step - loss: 7.2538e-06 - accuracy: 1.0000 - val_loss: 1.0376 - val_accuracy: 0.8000\n",
            "Epoch 131/200\n",
            "1/1 [==============================] - 0s 62ms/step - loss: 1.2999e-05 - accuracy: 1.0000 - val_loss: 1.0439 - val_accuracy: 0.8000\n",
            "Epoch 132/200\n",
            "1/1 [==============================] - 0s 61ms/step - loss: 8.0048e-06 - accuracy: 1.0000 - val_loss: 1.0488 - val_accuracy: 0.8000\n",
            "Epoch 133/200\n",
            "1/1 [==============================] - 0s 61ms/step - loss: 1.2582e-05 - accuracy: 1.0000 - val_loss: 1.0537 - val_accuracy: 0.8000\n",
            "Epoch 134/200\n",
            "1/1 [==============================] - 0s 61ms/step - loss: 1.5252e-05 - accuracy: 1.0000 - val_loss: 1.0559 - val_accuracy: 0.8000\n",
            "Epoch 135/200\n",
            "1/1 [==============================] - 0s 60ms/step - loss: 2.6630e-05 - accuracy: 1.0000 - val_loss: 1.0560 - val_accuracy: 0.8000\n",
            "Epoch 136/200\n",
            "1/1 [==============================] - 0s 69ms/step - loss: 3.0586e-05 - accuracy: 1.0000 - val_loss: 1.0573 - val_accuracy: 0.8000\n",
            "Epoch 137/200\n",
            "1/1 [==============================] - 0s 67ms/step - loss: 8.3087e-06 - accuracy: 1.0000 - val_loss: 1.0587 - val_accuracy: 0.8000\n",
            "Epoch 138/200\n",
            "1/1 [==============================] - 0s 61ms/step - loss: 5.4776e-06 - accuracy: 1.0000 - val_loss: 1.0600 - val_accuracy: 0.8000\n",
            "Epoch 139/200\n",
            "1/1 [==============================] - 0s 86ms/step - loss: 1.4548e-05 - accuracy: 1.0000 - val_loss: 1.0590 - val_accuracy: 0.8000\n",
            "Epoch 140/200\n",
            "1/1 [==============================] - 0s 79ms/step - loss: 4.5180e-06 - accuracy: 1.0000 - val_loss: 1.0582 - val_accuracy: 0.8000\n",
            "Epoch 141/200\n",
            "1/1 [==============================] - 0s 85ms/step - loss: 6.5981e-06 - accuracy: 1.0000 - val_loss: 1.0566 - val_accuracy: 0.8000\n",
            "Epoch 142/200\n",
            "1/1 [==============================] - 0s 77ms/step - loss: 5.8174e-06 - accuracy: 1.0000 - val_loss: 1.0555 - val_accuracy: 0.8000\n",
            "Epoch 143/200\n",
            "1/1 [==============================] - 0s 92ms/step - loss: 9.0776e-06 - accuracy: 1.0000 - val_loss: 1.0550 - val_accuracy: 0.8000\n",
            "Epoch 144/200\n",
            "1/1 [==============================] - 0s 74ms/step - loss: 8.0285e-06 - accuracy: 1.0000 - val_loss: 1.0540 - val_accuracy: 0.8000\n",
            "Epoch 145/200\n",
            "1/1 [==============================] - 0s 88ms/step - loss: 8.7438e-06 - accuracy: 1.0000 - val_loss: 1.0527 - val_accuracy: 0.8000\n",
            "Epoch 146/200\n",
            "1/1 [==============================] - 0s 79ms/step - loss: 9.8702e-06 - accuracy: 1.0000 - val_loss: 1.0512 - val_accuracy: 0.8000\n",
            "Epoch 147/200\n",
            "1/1 [==============================] - 0s 75ms/step - loss: 1.2600e-05 - accuracy: 1.0000 - val_loss: 1.0493 - val_accuracy: 0.8000\n",
            "Epoch 148/200\n",
            "1/1 [==============================] - 0s 93ms/step - loss: 1.3917e-05 - accuracy: 1.0000 - val_loss: 1.0463 - val_accuracy: 0.8000\n",
            "Epoch 149/200\n",
            "1/1 [==============================] - 0s 72ms/step - loss: 1.9071e-05 - accuracy: 1.0000 - val_loss: 1.0408 - val_accuracy: 0.8000\n",
            "Epoch 150/200\n",
            "1/1 [==============================] - 0s 76ms/step - loss: 3.0530e-05 - accuracy: 1.0000 - val_loss: 1.0318 - val_accuracy: 0.8000\n",
            "Epoch 151/200\n",
            "1/1 [==============================] - 0s 73ms/step - loss: 9.8048e-06 - accuracy: 1.0000 - val_loss: 1.0249 - val_accuracy: 0.8000\n",
            "Epoch 152/200\n",
            "1/1 [==============================] - 0s 77ms/step - loss: 1.2046e-05 - accuracy: 1.0000 - val_loss: 1.0182 - val_accuracy: 0.8000\n",
            "Epoch 153/200\n",
            "1/1 [==============================] - 0s 76ms/step - loss: 2.7755e-05 - accuracy: 1.0000 - val_loss: 1.0162 - val_accuracy: 0.8000\n",
            "Epoch 154/200\n",
            "1/1 [==============================] - 0s 71ms/step - loss: 8.4399e-06 - accuracy: 1.0000 - val_loss: 1.0137 - val_accuracy: 0.8000\n",
            "Epoch 155/200\n",
            "1/1 [==============================] - 0s 74ms/step - loss: 6.6458e-06 - accuracy: 1.0000 - val_loss: 1.0116 - val_accuracy: 0.8000\n",
            "Epoch 156/200\n",
            "1/1 [==============================] - 0s 74ms/step - loss: 5.3584e-06 - accuracy: 1.0000 - val_loss: 1.0099 - val_accuracy: 0.8000\n",
            "Epoch 157/200\n",
            "1/1 [==============================] - 0s 73ms/step - loss: 5.3672e-05 - accuracy: 1.0000 - val_loss: 1.0155 - val_accuracy: 0.8000\n",
            "Epoch 158/200\n",
            "1/1 [==============================] - 0s 72ms/step - loss: 9.1372e-06 - accuracy: 1.0000 - val_loss: 1.0193 - val_accuracy: 0.8000\n",
            "Epoch 159/200\n",
            "1/1 [==============================] - 0s 78ms/step - loss: 9.9657e-06 - accuracy: 1.0000 - val_loss: 1.0229 - val_accuracy: 0.8000\n",
            "Epoch 160/200\n",
            "1/1 [==============================] - 0s 89ms/step - loss: 2.7001e-06 - accuracy: 1.0000 - val_loss: 1.0263 - val_accuracy: 0.8000\n",
            "Epoch 161/200\n",
            "1/1 [==============================] - 0s 87ms/step - loss: 1.2028e-05 - accuracy: 1.0000 - val_loss: 1.0284 - val_accuracy: 0.8000\n",
            "Epoch 162/200\n",
            "1/1 [==============================] - 0s 79ms/step - loss: 7.4147e-06 - accuracy: 1.0000 - val_loss: 1.0307 - val_accuracy: 0.8000\n",
            "Epoch 163/200\n",
            "1/1 [==============================] - 0s 88ms/step - loss: 7.1524e-06 - accuracy: 1.0000 - val_loss: 1.0339 - val_accuracy: 0.8000\n",
            "Epoch 164/200\n",
            "1/1 [==============================] - 0s 90ms/step - loss: 5.2093e-06 - accuracy: 1.0000 - val_loss: 1.0363 - val_accuracy: 0.8000\n",
            "Epoch 165/200\n",
            "1/1 [==============================] - 0s 87ms/step - loss: 5.8884e-05 - accuracy: 1.0000 - val_loss: 1.0282 - val_accuracy: 0.8000\n",
            "Epoch 166/200\n",
            "1/1 [==============================] - 0s 78ms/step - loss: 7.0809e-06 - accuracy: 1.0000 - val_loss: 1.0210 - val_accuracy: 0.8000\n",
            "Epoch 167/200\n",
            "1/1 [==============================] - 0s 80ms/step - loss: 9.5304e-06 - accuracy: 1.0000 - val_loss: 1.0134 - val_accuracy: 0.8000\n",
            "Epoch 168/200\n",
            "1/1 [==============================] - 0s 74ms/step - loss: 2.6304e-05 - accuracy: 1.0000 - val_loss: 1.0004 - val_accuracy: 0.8000\n",
            "Epoch 169/200\n",
            "1/1 [==============================] - 0s 81ms/step - loss: 5.9127e-06 - accuracy: 1.0000 - val_loss: 0.9895 - val_accuracy: 0.8000\n",
            "Epoch 170/200\n",
            "1/1 [==============================] - 0s 82ms/step - loss: 3.1829e-06 - accuracy: 1.0000 - val_loss: 0.9802 - val_accuracy: 0.8000\n",
            "Epoch 171/200\n",
            "1/1 [==============================] - 0s 75ms/step - loss: 8.8571e-06 - accuracy: 1.0000 - val_loss: 0.9717 - val_accuracy: 0.8000\n",
            "Epoch 172/200\n",
            "1/1 [==============================] - 0s 99ms/step - loss: 1.4351e-05 - accuracy: 1.0000 - val_loss: 0.9668 - val_accuracy: 0.8000\n",
            "Epoch 173/200\n",
            "1/1 [==============================] - 0s 82ms/step - loss: 1.3726e-05 - accuracy: 1.0000 - val_loss: 0.9648 - val_accuracy: 0.8000\n",
            "Epoch 174/200\n",
            "1/1 [==============================] - 0s 78ms/step - loss: 7.8257e-06 - accuracy: 1.0000 - val_loss: 0.9646 - val_accuracy: 0.8000\n",
            "Epoch 175/200\n",
            "1/1 [==============================] - 0s 78ms/step - loss: 5.2809e-06 - accuracy: 1.0000 - val_loss: 0.9652 - val_accuracy: 0.8000\n",
            "Epoch 176/200\n",
            "1/1 [==============================] - 0s 75ms/step - loss: 7.9711e-05 - accuracy: 1.0000 - val_loss: 0.9810 - val_accuracy: 0.8000\n",
            "Epoch 177/200\n",
            "1/1 [==============================] - 0s 85ms/step - loss: 1.3178e-05 - accuracy: 1.0000 - val_loss: 0.9971 - val_accuracy: 0.8000\n",
            "Epoch 178/200\n",
            "1/1 [==============================] - 0s 80ms/step - loss: 7.8320e-06 - accuracy: 1.0000 - val_loss: 1.0119 - val_accuracy: 0.8000\n",
            "Epoch 179/200\n",
            "1/1 [==============================] - 0s 70ms/step - loss: 8.1775e-06 - accuracy: 1.0000 - val_loss: 1.0243 - val_accuracy: 0.8000\n",
            "Epoch 180/200\n",
            "1/1 [==============================] - 0s 74ms/step - loss: 4.8458e-06 - accuracy: 1.0000 - val_loss: 1.0353 - val_accuracy: 0.8000\n",
            "Epoch 181/200\n",
            "1/1 [==============================] - 0s 77ms/step - loss: 1.5597e-05 - accuracy: 1.0000 - val_loss: 1.0479 - val_accuracy: 0.8000\n",
            "Epoch 182/200\n",
            "1/1 [==============================] - 0s 80ms/step - loss: 2.1756e-06 - accuracy: 1.0000 - val_loss: 1.0591 - val_accuracy: 0.8000\n",
            "Epoch 183/200\n",
            "1/1 [==============================] - 0s 102ms/step - loss: 8.4039e-06 - accuracy: 1.0000 - val_loss: 1.0708 - val_accuracy: 0.8000\n",
            "Epoch 184/200\n",
            "1/1 [==============================] - 0s 97ms/step - loss: 7.5338e-06 - accuracy: 1.0000 - val_loss: 1.0805 - val_accuracy: 0.8000\n",
            "Epoch 185/200\n",
            "1/1 [==============================] - 0s 86ms/step - loss: 5.4358e-06 - accuracy: 1.0000 - val_loss: 1.0889 - val_accuracy: 0.8000\n",
            "Epoch 186/200\n",
            "1/1 [==============================] - 0s 66ms/step - loss: 3.6776e-06 - accuracy: 1.0000 - val_loss: 1.0961 - val_accuracy: 0.8000\n",
            "Epoch 187/200\n",
            "1/1 [==============================] - 0s 63ms/step - loss: 4.4107e-06 - accuracy: 1.0000 - val_loss: 1.1031 - val_accuracy: 0.8000\n",
            "Epoch 188/200\n",
            "1/1 [==============================] - 0s 65ms/step - loss: 4.9769e-06 - accuracy: 1.0000 - val_loss: 1.1089 - val_accuracy: 0.8000\n",
            "Epoch 189/200\n",
            "1/1 [==============================] - 0s 67ms/step - loss: 7.3909e-06 - accuracy: 1.0000 - val_loss: 1.1140 - val_accuracy: 0.8000\n",
            "Epoch 190/200\n",
            "1/1 [==============================] - 0s 66ms/step - loss: 8.1238e-06 - accuracy: 1.0000 - val_loss: 1.1195 - val_accuracy: 0.8000\n",
            "Epoch 191/200\n",
            "1/1 [==============================] - 0s 69ms/step - loss: 1.7678e-05 - accuracy: 1.0000 - val_loss: 1.1242 - val_accuracy: 0.8000\n",
            "Epoch 192/200\n",
            "1/1 [==============================] - 0s 71ms/step - loss: 1.6056e-05 - accuracy: 1.0000 - val_loss: 1.1251 - val_accuracy: 0.8000\n",
            "Epoch 193/200\n",
            "1/1 [==============================] - 0s 63ms/step - loss: 4.3749e-06 - accuracy: 1.0000 - val_loss: 1.1254 - val_accuracy: 0.8000\n",
            "Epoch 194/200\n",
            "1/1 [==============================] - 0s 63ms/step - loss: 4.0829e-06 - accuracy: 1.0000 - val_loss: 1.1254 - val_accuracy: 0.8000\n",
            "Epoch 195/200\n",
            "1/1 [==============================] - 0s 63ms/step - loss: 5.5133e-06 - accuracy: 1.0000 - val_loss: 1.1251 - val_accuracy: 0.8000\n",
            "Epoch 196/200\n",
            "1/1 [==============================] - 0s 70ms/step - loss: 5.8412e-06 - accuracy: 1.0000 - val_loss: 1.1248 - val_accuracy: 0.8000\n",
            "Epoch 197/200\n",
            "1/1 [==============================] - 0s 61ms/step - loss: 7.0213e-06 - accuracy: 1.0000 - val_loss: 1.1238 - val_accuracy: 0.8000\n",
            "Epoch 198/200\n",
            "1/1 [==============================] - 0s 64ms/step - loss: 5.7697e-06 - accuracy: 1.0000 - val_loss: 1.1229 - val_accuracy: 0.8000\n",
            "Epoch 199/200\n",
            "1/1 [==============================] - 0s 71ms/step - loss: 8.8571e-06 - accuracy: 1.0000 - val_loss: 1.1204 - val_accuracy: 0.8000\n",
            "Epoch 200/200\n",
            "1/1 [==============================] - 0s 62ms/step - loss: 4.8518e-06 - accuracy: 1.0000 - val_loss: 1.1180 - val_accuracy: 0.8000\n"
          ]
        }
      ]
    },
    {
      "cell_type": "code",
      "metadata": {
        "id": "GWIlgOnjzdhT"
      },
      "source": [
        "model.save('model.h5')"
      ],
      "execution_count": null,
      "outputs": []
    },
    {
      "cell_type": "code",
      "metadata": {
        "id": "dTE4J3IGUWlt"
      },
      "source": [
        "from matplotlib import pyplot as plt"
      ],
      "execution_count": null,
      "outputs": []
    },
    {
      "cell_type": "code",
      "metadata": {
        "id": "H1TU9-z2UZlj",
        "colab": {
          "base_uri": "https://localhost:8080/",
          "height": 477
        },
        "outputId": "779c676f-72bd-4afe-e854-95f73ece371e"
      },
      "source": [
        "# plot the training loss and accuracy\n",
        "N = 200\n",
        "plt.style.use(\"ggplot\")\n",
        "plt.figure()\n",
        "plt.plot(np.arange(0, N), history.history[\"loss\"], label=\"train_loss\")\n",
        "plt.plot(np.arange(0, N), history.history[\"val_loss\"], label=\"val_loss\")\n",
        "plt.plot(np.arange(0, N), history.history[\"accuracy\"], label=\"train_acc\")\n",
        "plt.plot(np.arange(0, N), history.history[\"val_accuracy\"], label=\"val_acc\")\n",
        "plt.title(\"Training Loss and Accuracy\")\n",
        "plt.xlabel(\"Epoch #\")\n",
        "plt.ylabel(\"Loss/Accuracy\")\n",
        "plt.legend(loc=\"center right\")\n",
        "plt.savefig(\"CNN_Model\")"
      ],
      "execution_count": null,
      "outputs": [
        {
          "output_type": "display_data",
          "data": {
            "text/plain": [
              "<Figure size 640x480 with 1 Axes>"
            ],
            "image/png": "[encoded data removed]"
          },
          "metadata": {}
        }
      ]
    },
    {
      "cell_type": "code",
      "metadata": {
        "id": "mO_qh8EZl8qZ"
      },
      "source": [],
      "execution_count": null,
      "outputs": []
    }
  ]
}